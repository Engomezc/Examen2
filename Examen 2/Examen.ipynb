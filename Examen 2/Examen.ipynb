{
 "cells": [
  {
   "cell_type": "code",
   "execution_count": 1,
   "id": "a430b62e-fe29-40c9-907d-90416df0f4a9",
   "metadata": {},
   "outputs": [],
   "source": [
    "import time\n",
    "import requests\n",
    "from bs4 import BeautifulSoup\n",
    "from selenium import webdriver\n",
    "from pymongo import MongoClient\n",
    "from selenium.webdriver.common.by import By\n",
    "from selenium.webdriver.common.keys import Keys"
   ]
  },
  {
   "cell_type": "code",
   "execution_count": 2,
   "id": "617955c3-a0b9-41a6-841e-f98240d659cd",
   "metadata": {},
   "outputs": [],
   "source": [
    "# Creating a connection to MongoDB\n",
    "client = MongoClient('localhost', 27017)\n",
    "db = client['examen2']\n",
    "collection = db['senado']"
   ]
  },
  {
   "cell_type": "code",
   "execution_count": 3,
   "id": "4aa7f38b-856e-4af3-8e87-a3388032fef4",
   "metadata": {},
   "outputs": [],
   "source": [
    "# Base URL of the site to be analyzed\n",
    "SITE_URL = 'https://alianzaverde.org.co'"
   ]
  },
  {
   "cell_type": "code",
   "execution_count": 4,
   "id": "b16bdc81-bc6d-45ed-a9bc-e2fa07fd50c2",
   "metadata": {},
   "outputs": [],
   "source": [
    "# Firefox web driver path\n",
    "DRIVER_PATH = './geckodriver'"
   ]
  },
  {
   "cell_type": "code",
   "execution_count": 5,
   "id": "437e6bd5-f4e9-418e-ab92-a80629d7fb67",
   "metadata": {},
   "outputs": [
    {
     "name": "stderr",
     "output_type": "stream",
     "text": [
      "C:\\Users\\eveli\\AppData\\Local\\Temp\\ipykernel_23960\\1910320475.py:2: DeprecationWarning: executable_path has been deprecated, please pass in a Service object\n",
      "  browser = webdriver.Firefox(executable_path = DRIVER_PATH)\n"
     ]
    }
   ],
   "source": [
    "# Creating a new firefox window\n",
    "browser = webdriver.Firefox(executable_path = DRIVER_PATH)"
   ]
  },
  {
   "cell_type": "code",
   "execution_count": 6,
   "id": "93c5823f-9af2-49d1-bb32-710cf93dfee3",
   "metadata": {},
   "outputs": [],
   "source": [
    "def make_request(browser, relative_path):\n",
    "    # Making the request and rendering the browser\n",
    "    browser.get(SITE_URL + relative_path)\n",
    "    \n",
    "    # Simulating vertical scrolling for handling lazy load\n",
    "    check_height = browser.execute_script('return document.body.scrollHeight;')\n",
    "    while True:\n",
    "        browser.execute_script('window.scrollTo(0, document.body.scrollHeight);')\n",
    "        time.sleep(5)\n",
    "        height = browser.execute_script('return document.body.scrollHeight;')\n",
    "        if height == check_height: \n",
    "            break \n",
    "        check_height = height\n",
    "    \n",
    "    # Getting HTML content and passing it to BeautifulSoup for scraping analysis\n",
    "    return BeautifulSoup(browser.page_source, 'html.parser')"
   ]
  },
  {
   "cell_type": "code",
   "execution_count": 7,
   "id": "80e979e3-ecf0-4a8b-b975-8eee6786c55b",
   "metadata": {},
   "outputs": [],
   "source": [
    "# Getting HTML content for a particular news listing page\n",
    "soup = make_request(browser, '/lideres-verdes/congreso-2022/senado-2022')"
   ]
  },
  {
   "cell_type": "code",
   "execution_count": 8,
   "id": "26f49e02-2f67-4bca-804e-89a54e19107b",
   "metadata": {},
   "outputs": [],
   "source": [
    "# Finding the section where news are contained \n",
    "layout = soup.find(class_ = 'main-body')"
   ]
  },
  {
   "cell_type": "code",
   "execution_count": 9,
   "id": "c89af44c-abae-419e-b67b-285127e9ec48",
   "metadata": {},
   "outputs": [
    {
     "name": "stdout",
     "output_type": "stream",
     "text": [
      "36\n"
     ]
    }
   ],
   "source": [
    "# Getting blocks from layout\n",
    "blocks = layout.find_all(class_ = 'sppb-col-md-3', recursive = True)\n",
    "print(len(blocks))"
   ]
  },
  {
   "cell_type": "code",
   "execution_count": 10,
   "id": "0af4912e-3b87-4aa0-91ab-dd90b4f2ae5a",
   "metadata": {},
   "outputs": [
    {
     "ename": "AttributeError",
     "evalue": "'NoneType' object has no attribute 'find'",
     "output_type": "error",
     "traceback": [
      "\u001b[1;31m---------------------------------------------------------------------------\u001b[0m",
      "\u001b[1;31mAttributeError\u001b[0m                            Traceback (most recent call last)",
      "Input \u001b[1;32mIn [10]\u001b[0m, in \u001b[0;36m<cell line: 4>\u001b[1;34m()\u001b[0m\n\u001b[0;32m      3\u001b[0m page \u001b[38;5;241m=\u001b[39m []\n\u001b[0;32m      4\u001b[0m \u001b[38;5;28;01mfor\u001b[39;00m card \u001b[38;5;129;01min\u001b[39;00m blocks:\n\u001b[0;32m      5\u001b[0m     page\u001b[38;5;241m.\u001b[39mappend({\n\u001b[0;32m      6\u001b[0m         \u001b[38;5;124m'\u001b[39m\u001b[38;5;124mphoto\u001b[39m\u001b[38;5;124m'\u001b[39m: card\u001b[38;5;241m.\u001b[39mfind(\u001b[38;5;124m'\u001b[39m\u001b[38;5;124mdiv\u001b[39m\u001b[38;5;124m'\u001b[39m, class_ \u001b[38;5;241m=\u001b[39m \u001b[38;5;124m'\u001b[39m\u001b[38;5;124msppb-person-image\u001b[39m\u001b[38;5;124m'\u001b[39m)\u001b[38;5;241m.\u001b[39mfind(\u001b[38;5;124m'\u001b[39m\u001b[38;5;124mimg\u001b[39m\u001b[38;5;124m'\u001b[39m)[\u001b[38;5;124m'\u001b[39m\u001b[38;5;124msrc\u001b[39m\u001b[38;5;124m'\u001b[39m],\n\u001b[0;32m      7\u001b[0m         \u001b[38;5;124m'\u001b[39m\u001b[38;5;124mdescrip\u001b[39m\u001b[38;5;124m'\u001b[39m: card\u001b[38;5;241m.\u001b[39mfind(\u001b[38;5;124m'\u001b[39m\u001b[38;5;124mspan\u001b[39m\u001b[38;5;124m'\u001b[39m, class_ \u001b[38;5;241m=\u001b[39m \u001b[38;5;124m'\u001b[39m\u001b[38;5;124msppb-person-designation\u001b[39m\u001b[38;5;124m'\u001b[39m)\u001b[38;5;241m.\u001b[39mget_text(),\n\u001b[1;32m----> 8\u001b[0m         \u001b[38;5;124m'\u001b[39m\u001b[38;5;124mred\u001b[39m\u001b[38;5;124m'\u001b[39m: \u001b[43mcard\u001b[49m\u001b[38;5;241;43m.\u001b[39;49m\u001b[43mfind\u001b[49m\u001b[43m(\u001b[49m\u001b[38;5;124;43m'\u001b[39;49m\u001b[38;5;124;43mul\u001b[39;49m\u001b[38;5;124;43m'\u001b[39;49m\u001b[43m,\u001b[49m\u001b[43m \u001b[49m\u001b[43mclass_\u001b[49m\u001b[43m \u001b[49m\u001b[38;5;241;43m=\u001b[39;49m\u001b[43m \u001b[49m\u001b[38;5;124;43m'\u001b[39;49m\u001b[38;5;124;43msppb-person-social\u001b[39;49m\u001b[38;5;124;43m'\u001b[39;49m\u001b[43m)\u001b[49m\u001b[38;5;241;43m.\u001b[39;49m\u001b[43mfind\u001b[49m(\u001b[38;5;124m'\u001b[39m\u001b[38;5;124ma\u001b[39m\u001b[38;5;124m'\u001b[39m)[\u001b[38;5;124m'\u001b[39m\u001b[38;5;124mhref\u001b[39m\u001b[38;5;124m'\u001b[39m]\n\u001b[0;32m      9\u001b[0m     })\n",
      "\u001b[1;31mAttributeError\u001b[0m: 'NoneType' object has no attribute 'find'"
     ]
    }
   ],
   "source": [
    "# Building a list with title and relative path of the news founded\n",
    "\n",
    "page = []\n",
    "for card in blocks:\n",
    "    page.append({\n",
    "        'photo': card.find('div', class_ = 'sppb-person-image').find('img')['src'],\n",
    "        'descrip': card.find('span', class_ = 'sppb-person-designation').get_text(),\n",
    "        'red': card.find('ul', class_ = 'sppb-person-social').find('a')['href']\n",
    "    })"
   ]
  },
  {
   "cell_type": "code",
   "execution_count": 11,
   "id": "9bae5a9e-8bab-4675-b7f4-ebbaae9bad5b",
   "metadata": {},
   "outputs": [
    {
     "data": {
      "text/plain": [
       "[{'photo': '/images/Candidatos_2022/senado/2.jpg',\n",
       "  'descrip': 'Abogada y filósofa, con un máster en Ciencias de la Administración Pública, en Alemania. Experta en gestión pública, descentralización, transparencia, buen gobierno, modernización del estado, cultura ciudadana y cooperación internacional, temas en los cuales se ha desempeñado alternativamente como servidora pública, consultora y docente.',\n",
       "  'red': 'https://twitter.com/VivianaBarbere '},\n",
       " {'photo': '/images/Candidatos_2022/senado/3.jpg',\n",
       "  'descrip': 'Nacida de seres excepcionales, en tiempos inciertos; es la mujer de retos resueltos. Desde el inicio de su carrera política, su liderazgo se enfoca en mantener la cultura de la equidad, la familia y el fortalecimiento económico, político y social de las regiones en Colombia',\n",
       "  'red': 'https://www.facebook.com/sandraortizsenadora'},\n",
       " {'photo': '/images/Candidatos_2022/senado/5.jpg',\n",
       "  'descrip': 'Destacado Senador de la República en el año 2010 fue disciplinado y estricto en el cumplimiento de su función en la producción legislativa y el ejercicio del control político; en particular, participó de forma definitiva en los Proyectos de Ley y de Acto Legislativo trascendentales para el país.',\n",
       "  'red': 'https://www.facebook.com/JorgeELondonoU/'},\n",
       " {'photo': '/images/Candidatos_2022/senado/7.jpg',\n",
       "  'descrip': 'Egresado de la Facultad de Derecho de la Pontificia Universidad Javeriana; fue Diputado a la Asamblea de Cundinamarca, Concejal, Representante a la Cámara por Bogotá y Senador, además de ser fundador del Partido Alianza Verde. Correo de contacto',\n",
       "  'red': 'https://www.facebook.com/SenadorIvanName '},\n",
       " {'photo': '/images/Candidatos_2022/senado/8.jpg',\n",
       "  'descrip': 'Como congresista pertenece a la Comisión sexta, la comisión de paz y la Comisión de Derechos Humanos. Ha presentado iniciativas para reformar el sistema general de participaciones y la jornada laboral. Ha presentado proyectos de ley que fortalezcan la nutrición saludable, el internet gratuito, el financiamiento a los cuerpos de bomberos, la creación de las provincias, entre otras.',\n",
       "  'red': 'https://www.facebook.com/Leonfredym'},\n",
       " {'photo': '/images/Candidatos_2022/senado/10.jpg',\n",
       "  'descrip': 'Ciudadana, activista cívica, abogada y Senadora de 2018 a 2022 por el partido Alianza Verde. Representante a la Cámara por Bogotá en 2014 - 2018. Magíster en Gerencia y Práctica del Desarrollo en la Universidad de los Andes y becaria del Instituto Nacional Demócrata (NDI).',\n",
       "  'red': 'https://www.facebook.com/angelicalozanocorrea/ '},\n",
       " {'photo': '/images/Candidatos_2022/senado/12.jpg',\n",
       "  'descrip': 'Nacida en Villa de Leyva Boyacá. Desde su infancia se caracterizó por el amor a su familia, solidaridad y capacidad de asumir retos. Ingeniera Industrial de la Universidad Pedagógica y Tecnológica de Colombia, con una Maestría en en pensamiento estratégico y perspectiva de la Universidad Externado de Colombia.',\n",
       "  'red': '/ https://www.facebook.com/karolina.jerez '},\n",
       " {'photo': '/images/Candidatos_2022/senado/14.jpg',\n",
       "  'descrip': 'Profesora universitaria. Autora de varias publicaciones sobre derechos animales y justicia juvenil restaurativa (Beca de Investigación del Grupo Coímbra. Programa de Becas para Jóvenes Profesores e Investigadores de Universidades de América Latina, 2009). Columnista ocasional de varios medios de comunicación.',\n",
       "  'red': 'https://www.facebook.com/andreanimalidad'},\n",
       " {'photo': '/images/Candidatos_2022/senado/18.jpg',\n",
       "  'descrip': 'Magíster en Gestión de la Tecnología Educativa. Ex presidente de Sindimaestros en Boyacá. Ex presidente de FECODE y actualmente Ejecutivo (tesorero)Dirigente estudiantil, sindical, social y político desde hace 32 años.',\n",
       "  'red': 'https://www.facebook.com/nelson.alarconsuarez.16 '},\n",
       " {'photo': '/images/Candidatos_2022/senado/20.jpg',\n",
       "  'descrip': 'Nació en Pereira en 1946, el cuarto de once hermanos, en la época de la Violencia… cuando liberales y conservadores se mataban. Por eso desde pequeño sabe que lo más importante para el país es que las personas aprendamos a convivir, a dignificar la existencia humana.',\n",
       "  'red': 'https://www.facebook.com/IvanMarulandaGomez'},\n",
       " {'photo': '/images/Candidatos_2022/senado/22.jpg',\n",
       "  'descrip': 'Miembro de la Comisión Segunda del Senado y Co-Presidente de la Comisión de Paz. Sociólogo, Magíster en Desarrollo Regional de la Universidad de Los Andes y Doctor en Gobierno y Administración Pública de la Universidad Complutense de Madrid. Fue Concejal de Bogotá de 2008 a diciembre de 2017.',\n",
       "  'red': 'https://www.facebook.com/antonio.sanguino.79 '},\n",
       " {'photo': '/images/Candidatos_2022/senado/26.jpg',\n",
       "  'descrip': 'Líder ambiental de Piedecuesta, ha sido visible en el movimiento ambiental del departamento. Trabajó en la Alcaldía de Piedecuesta en la Oficina de Control Interno. Terminó materias de administración de empresas en la Universidad Cooperativa de Colombia, y es perito certificado por la Lonja de Propiedad horizontal, así como tecnólogo del Sena en mercado y venta de bienes inmuebles.',\n",
       "  'red': 'https://www.facebook.com/fabiandiazcomunidad/ '},\n",
       " {'photo': '/images/Candidatos_2022/senado/28.jpg',\n",
       "  'descrip': 'Abogada de la Universidad Nacional de Colombia, trabajó con la Rama Judicial y el Acueducto de Bogotá como asesora jurídica. Actualmente es abogada militante. Literaria y novelista con publicaciones de sus escritos. Trabaja con la cultura y la comunidad en asuntos sociales.',\n",
       "  'red': 'https://www.facebook.com/PartidoAlianzaVerde'},\n",
       " {'photo': '/images/Candidatos_2022/senado/30.jpg',\n",
       "  'descrip': 'Profesional en Gobierno y Relaciones internacionales con maestría en Desarrollo Regional y dos años de experiencia en en entidades de cooperación internacional y del Estado. Enfoque de trabajo en gobernanza, construcción de paz, transparencia y equidad de género.',\n",
       "  'red': 'https://www.facebook.com/Linaarangorisaralda '},\n",
       " {'photo': '/images/Candidatos_2022/senado/32.jpg',\n",
       "  'descrip': 'Activista estudiantil vinculado a las luchas agrarias de los campesinos por la tierra para quien la trabaja de la ANUC línea Sincelejo. Fundador de la Asociación de adjudicatarios de vivienda del ICT y UPAC, fue su Presidente, Miembro destacado del Consejo Nacional de los pueblos cívicos comunales y la Coordinadora de Vivienda Popular en los años 1980. Líder sindical de la subdirectiva sindical de Telecom en Montería Córdoba, Miembro vicepresidente de  Consejo de planeación territorial del Atlántico en la primera generación de consejeros con el nacimiento de la ley de participación territorial. ',\n",
       "  'red': 'https://www.facebook.com/PartidoAlianzaVerde/'},\n",
       " {'photo': '/images/Candidatos_2022/senado/34.jpg',\n",
       "  'descrip': 'Abogado de la Universidad de los Andes, especialista en Estado, Políticas públicas y Desarrollo. Activista social y medio ambiental. Autor del libro titulado “Agua” fiel creyente de los cambios a través del proceso democrático y participativo, basado en los principios progresistas.',\n",
       "  'red': 'https://www.facebook.com/Frankcanossa '},\n",
       " {'photo': '/images/Candidatos_2022/senado/36.jpg',\n",
       "  'descrip': 'Abogado de la Universidad de los Andes, Especialista en Derecho, Magíster en Educación y en Derecho, Doctor en Derecho (PDH). INVESTIGADOR SENIOR RECONOCIDO POR MIN CIENCIAS. AUTOR DE DIFERENTES LIBROS EN ÁREAS EDUCATIVAS Y JURÍDICAS.',\n",
       "  'red': 'https://www.facebook.com/js.perilla117'},\n",
       " {'photo': '/images/Candidatos_2022/senado/38.jpg',\n",
       "  'descrip': 'Secretario de Educación del Departamento de Bolívar. -Primer Secretario de Educación del Distrito de Cartagena. Gobernador del Departamento de Bolívar, por elección popular. -Presidente del Consejo Superior de la Universidad de Cartagena. -Docente Especial Tiempo Completo- Escuela Superior de Administración Pública-ESAP. ',\n",
       "  'red': '/www.facebook.com/luis.d.sanchez.16'},\n",
       " {'photo': '/images/Candidatos_2022/senado/40.jpg',\n",
       "  'descrip': 'Nacido en Samaná Caldas, estudió economía y comercio exterior en la Universidad de los Libertadores. Empresario enfocado en el sector inmobiliario.  Su apuesta está centrada en el sector campo.',\n",
       "  'red': 'https://www.facebook.com/JorgeELondonoU/'},\n",
       " {'photo': '/images/Candidatos_2022/senado/42.jpg',\n",
       "  'descrip': 'Bogotana, Abogada defensora de los derechos humanos, de la inclusión y diversidad, de los animales y el medio ambiente. Abogada litigante. Experiencia en Secretaría General de la Contraloría de  Cundinamarca, Personera Delegada para Protección a Víctimas, Personera Delegada para Seguridad y Convivencia, Directora y Subdirectora del Proceso de Responsabilidad Fiscal y Cobro Coactivo de la Contraloría de Bogotá.',\n",
       "  'red': 'https://www.facebook.com/PartidoAlianzaVerde/'},\n",
       " {'photo': '/images/Candidatos_2022/senado/44.jpg',\n",
       "  'descrip': 'Soy filósofa de la Universidad del Valle con Maestría en Estudios Políticos de la U. Javeriana, he ejercido la cátedra universitaria. Tengo una larga trayectoria como defensora de Derechos Humanos, y he desplegado un rico liderazgo social que me ha llevado a hacer contribuciones significativas al lado de los movimientos sociales y las víctimas del conflicto social y armado.',\n",
       "  'red': 'https://www.facebook.com/liliasolanor'},\n",
       " {'photo': '/images/Candidatos_2022/senado/48.jpg',\n",
       "  'descrip': 'Economista, magíster en gobierno. Reconocido por su sentido social, responsable, honesto, innovador, creativo y social. Ha desarrollado proyectos comunitarios y gobernabilidad en más de 43 consejos comunitarios en el territorio ancestral del norte del Cauca.',\n",
       "  'red': 'https://www.facebook.com/victorhugomorenom'},\n",
       " {'photo': '/images/Candidatos_2022/senado/52.jpg',\n",
       "  'descrip': 'Empresaria, consultora organizacional en procesos de transformación. Víctima del atentado de las Farc al Club El Nogal. Incapacitada durante 8+años. Fui mi propio laboratorio de Perdón y Reconciliación. Ayudo a sanar corazones de víctimas y victimarios. Dirijo Encuentros Transformadores entre diversos (30años).  Pienso crear la política pública para la Transformación y Reconciliación.',\n",
       "  'red': 'https://www.youtube.com/channel/UC4S3hcMJV5jq4jXEs8Ltjow/videos'},\n",
       " {'photo': '/images/Candidatos_2022/senado/54.jpg',\n",
       "  'descrip': 'Creador de contenido digital político, reconocido por google con la placa de oro. Activista y líder político en redes sociales.',\n",
       "  'red': 'https://www.facebook.com/JotaPeHernandez'},\n",
       " {'photo': '/images/Candidatos_2022/senado/56.jpg',\n",
       "  'descrip': 'DALIA FERNANDA PINEDA',\n",
       "  'red': 'https://twitter.com/JorgeELondonoU'},\n",
       " {'photo': '/images/Candidatos_2022/senado/58.jpg',\n",
       "  'descrip': 'Abogado de la Universidad de Medellín, experto en derecho civil extracontractual y de tránsito. Creador del movimiento Sí Se Puede. ',\n",
       "  'red': 'https://www.facebook.com/SiSePuedeHernanEcheverri'},\n",
       " {'photo': '/images/Candidatos_2022/senado/60.jpg',\n",
       "  'descrip': 'Ex concejal de Manizales por el Partido Alianza Verde, en donde ha liderado y tenido resultados alrededor de la defensa y protección de los animales, logrando posicionar a la ciudad de Manizales como ejemplo de región en el manejo de Fauna Doméstica.',\n",
       "  'red': 'https://www.facebook.com/Hemayr.concejal '},\n",
       " {'photo': '/images/Candidatos_2022/senado/62.jpg',\n",
       "  'descrip': 'Representante de los Usuarios del ICETEX y líder del movimiento el ICETEX TE ARRUINA. Desde el 2013 ha investigado las anomalías del modelo de financiación y ha aunado esfuerzos en el Congreso de la República para lograr 4 leyes que podrían beneficiar a más de 800 mil usuarios.',\n",
       "  'red': 'https://www.facebook.com/icetextearruina/ '}]"
      ]
     },
     "execution_count": 11,
     "metadata": {},
     "output_type": "execute_result"
    }
   ],
   "source": [
    "page"
   ]
  },
  {
   "cell_type": "code",
   "execution_count": 12,
   "id": "c5f2845b-a7e5-4b9e-9453-ea5736cb6504",
   "metadata": {},
   "outputs": [
    {
     "data": {
      "text/plain": [
       "<pymongo.results.InsertManyResult at 0x17b198ba8e0>"
      ]
     },
     "execution_count": 12,
     "metadata": {},
     "output_type": "execute_result"
    }
   ],
   "source": [
    "# Storing extracted information for further analysis\n",
    "collection.insert_many(page)"
   ]
  },
  {
   "cell_type": "code",
   "execution_count": null,
   "id": "3a55382a-16fb-434a-9019-4ac5ae549636",
   "metadata": {},
   "outputs": [],
   "source": []
  }
 ],
 "metadata": {
  "kernelspec": {
   "display_name": "Python 3 (ipykernel)",
   "language": "python",
   "name": "python3"
  },
  "language_info": {
   "codemirror_mode": {
    "name": "ipython",
    "version": 3
   },
   "file_extension": ".py",
   "mimetype": "text/x-python",
   "name": "python",
   "nbconvert_exporter": "python",
   "pygments_lexer": "ipython3",
   "version": "3.9.7"
  }
 },
 "nbformat": 4,
 "nbformat_minor": 5
}
